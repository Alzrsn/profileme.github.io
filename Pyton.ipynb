{
  "nbformat": 4,
  "nbformat_minor": 0,
  "metadata": {
    "colab": {
      "provenance": [],
      "authorship_tag": "ABX9TyM+efqKM8konDM6gXLjXTwY",
      "include_colab_link": true
    },
    "kernelspec": {
      "name": "python3",
      "display_name": "Python 3"
    },
    "language_info": {
      "name": "python"
    }
  },
  "cells": [
    {
      "cell_type": "markdown",
      "metadata": {
        "id": "view-in-github",
        "colab_type": "text"
      },
      "source": [
        "<a href=\"https://colab.research.google.com/github/Alzrsn/profileme.github.io/blob/main/Pyton.ipynb\" target=\"_parent\"><img src=\"https://colab.research.google.com/assets/colab-badge.svg\" alt=\"Open In Colab\"/></a>"
      ]
    },
    {
      "cell_type": "code",
      "execution_count": null,
      "metadata": {
        "id": "mMYFPAcZ9e5U",
        "colab": {
          "base_uri": "https://localhost:8080/"
        },
        "outputId": "60e137f2-f136-4e7f-b7d8-d9247a48361b"
      },
      "outputs": [
        {
          "output_type": "stream",
          "name": "stdout",
          "text": [
            "masukkan nama pasangan : asd\n",
            "masukkan nama pasangan : asd\n",
            "masukkan kedekatan hubungan : 123\n",
            "asd dan asd memiliki persentase : 123%\n"
          ]
        }
      ],
      "source": [
        "nama = input(\"masukkan nama pasangan : \")\n",
        "nama2 = input(\"masukkan nama pasangan : \")\n",
        "kedekatan_hubungan = input(\"masukkan kedekatan hubungan : \")\n",
        "hasil = nama + \" dan \" + nama2 + \" memiliki persentase : \" + kedekatan_hubungan + \"%\"\n",
        "print(hasil)"
      ]
    },
    {
      "cell_type": "code",
      "source": [
        "nama = input(\"masukkan nama : \")\n",
        "kelas = input(\"masukkan kelas : \")\n",
        "alamat = input(\"masukkan alamat : \")\n",
        "nomer = input(\"masukkan nomer telepon : \")\n"
      ],
      "metadata": {
        "colab": {
          "base_uri": "https://localhost:8080/"
        },
        "id": "o7QuhA3k-yeU",
        "outputId": "52c5b6f2-7d93-42a1-bfff-f914ba7d2cd4"
      },
      "execution_count": null,
      "outputs": [
        {
          "name": "stdout",
          "output_type": "stream",
          "text": [
            "masukkan nama : aska\n",
            "masukkan kelas : 10\n",
            "masukkan alamat : jl.haji hasan\n",
            "masukkan nomer telepon : 0858\n"
          ]
        }
      ]
    }
  ]
}