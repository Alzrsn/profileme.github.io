{
  "nbformat": 4,
  "nbformat_minor": 0,
  "metadata": {
    "colab": {
      "provenance": [],
      "authorship_tag": "ABX9TyOcEZ29xTrmGFMys8mBtmsh",
      "include_colab_link": true
    },
    "kernelspec": {
      "name": "python3",
      "display_name": "Python 3"
    },
    "language_info": {
      "name": "python"
    }
  },
  "cells": [
    {
      "cell_type": "markdown",
      "metadata": {
        "id": "view-in-github",
        "colab_type": "text"
      },
      "source": [
        "<a href=\"https://colab.research.google.com/github/Alzrsn/profileme.github.io/blob/main/Pyton2.ipynb\" target=\"_parent\"><img src=\"https://colab.research.google.com/assets/colab-badge.svg\" alt=\"Open In Colab\"/></a>"
      ]
    },
    {
      "cell_type": "markdown",
      "source": [
        "Apa itu operator?\n",
        "\n",
        "Operator merupakan simbol-simbol yang digunakan untuk\n",
        "melakukan operasi tertentu.\n",
        "\n",
        "ada enam jenis operator dalam pemograman yang wajib\n",
        "diketahui:\n",
        "\n",
        "1. **Operator Aritmatika:**\n",
        "Digunakan untuk operasi matematika dasar seperti penjumlahan (+), pengurangan (-), perkalian (), pembagian (/), sisa bagi (%), dan pemangkatan (*).\n",
        "\n",
        "Contoh:"
      ],
      "metadata": {
        "id": "_dr9Or4AncQ6"
      }
    },
    {
      "cell_type": "code",
      "source": [
        "a = int(input(\"input nilai a: \"))\n",
        "b = int(input(\"input nilai b: \"))\n",
        "\n",
        "#Operator Penjumlahan\n",
        "c = a + b\n",
        "print(\"hasil %d + %d = %d\" % (a, b, c))\n",
        "\n",
        "#Operator Pengurangan\n",
        "c = a - b\n",
        "print (\"hasil %d - %d = %d\" % (a, b, c))\n",
        "\n",
        "#Operator Perkalian\n",
        "c = a * b\n",
        "print (\"hasil %d * %d = %d\" % (a, b, c))\n",
        "\n",
        "#Operator Pembagian\n",
        "c = a / b\n",
        "print (\"hasil %d / %d = %d\" % (a, b, c))\n",
        "\n",
        "#Operator Sisa Bagi\n",
        "c = a % b\n",
        "print (\"hasil %d %% %d = %d\" % (a, b, c))\n",
        "\n",
        "#Operator Perpangkatan\n",
        "c = a ** b\n",
        "print (\"hasil %d ** %d = %d\" % (a, b, c))"
      ],
      "metadata": {
        "colab": {
          "base_uri": "https://localhost:8080/"
        },
        "id": "s0eGi7IconqK",
        "outputId": "1fa5f365-264c-483e-8189-6d87f0819e14"
      },
      "execution_count": 3,
      "outputs": [
        {
          "output_type": "stream",
          "name": "stdout",
          "text": [
            "input nilai a: 10\n",
            "input nilai b: 10\n",
            "hasil 10 + 10 = 20\n",
            "hasil 10 - 10 = 0\n",
            "hasil 10 * 10 = 100\n",
            "hasil 10 / 10 = 1\n",
            "hasil 10 % 10 = 0\n",
            "hasil 10 ** 10 = 10000000000\n"
          ]
        }
      ]
    },
    {
      "cell_type": "markdown",
      "source": [
        "2. **Operator Penugasan:** Digunakan untuk menetapkan nilai ke variabel, seperti pengisian nilai (=), penjumlahan dengan nilai yang ada (+=), pengurangan (-=), dan lain-lain.\n",
        "\n",
        "Contoh:"
      ],
      "metadata": {
        "id": "Z4bUglhprxNQ"
      }
    },
    {
      "cell_type": "code",
      "source": [
        "#input untuk mengisi nilai\n",
        "a = int(input(\"masukkan nilai a: \"))\n",
        "\n",
        "#contoh operator penugasan untuk mengisi nilai\n",
        "print(\"nilai a = %d\"%a)\n",
        "\n",
        "#coba kita jumlahkan nilai a dengan operator penugasan\n",
        "a += 5\n",
        "\n",
        "#setelah nilai a ditambah 5, coba kita lihat isinya\n",
        "print(\"nilai setelah ditambah 5\")\n",
        "print(\"a = %d\"%a)"
      ],
      "metadata": {
        "colab": {
          "base_uri": "https://localhost:8080/"
        },
        "id": "o4nw9Ht9sU7Z",
        "outputId": "9be54588-407e-4956-c2e4-9f10ee301bd8"
      },
      "execution_count": 9,
      "outputs": [
        {
          "output_type": "stream",
          "name": "stdout",
          "text": [
            "masukkan nilai a: 5\n",
            "nilai a = 5\n",
            "nilai setelah ditambah 5\n",
            "a = 10\n"
          ]
        }
      ]
    },
    {
      "cell_type": "code",
      "source": [
        "#input untuk mengisi nilai\n",
        "a = int(input(\"input nilai a: \" ))\n",
        "\n",
        "#tambah dengan 2\n",
        "a +=2\n",
        "\n",
        "#kurangi 3\n",
        "a -=3\n",
        "\n",
        "#kali 10\n",
        "a *=10\n",
        "\n",
        "#nagi dengan 4\n",
        "a /=4\n",
        "\n",
        "#pangkat 10\n",
        "a **=10\n",
        "\n",
        "#berapakah hasil nilai a sekarang?\n",
        "print(\"nilai a adalah %d\"%a)\n"
      ],
      "metadata": {
        "colab": {
          "base_uri": "https://localhost:8080/"
        },
        "id": "4goha2awyBzY",
        "outputId": "bd7ce1be-35f8-4a4a-cc48-1491da31da28"
      },
      "execution_count": 15,
      "outputs": [
        {
          "output_type": "stream",
          "name": "stdout",
          "text": [
            "input nilai a: 8\n",
            "nilai a adalah 2693893899917\n"
          ]
        }
      ]
    },
    {
      "cell_type": "markdown",
      "source": [
        "3. **Operator Pembanding/Relasi:** Membandingkan dua nilai, misalnya lebih besar (>), lebih kecil (<), sama dengan (==), dan tidak sama dengan (!=).\n",
        "\n",
        "Contohnya:"
      ],
      "metadata": {
        "id": "yfpsXCkMvE-I"
      }
    },
    {
      "cell_type": "code",
      "source": [
        "a = int(input(\"masukkan nilai a: \"))\n",
        "b = int(input(\"masukkan nilai b: \"))\n",
        "\n",
        "#apakah a sama dengan b?\n",
        "c = a == b\n",
        "print(\"apakah %d == %d: %r\"%(a,b,c))\n",
        "\n",
        "#apakah a lebih kecil b?\n",
        "c = a < b\n",
        "print(\"apakah %d < %d: %r\"%(a,b,c))\n",
        "\n",
        "#apakah a lebih besar b?\n",
        "c = a > b\n",
        "print(\"apakah %d > %d: %r\"%(a,b,c))\n",
        "\n",
        "#apakah a lebih kecil sama dengan b?\n",
        "c = a <= b\n",
        "print(\"apakah %d <= %d: %r\"%(a,b,c))\n",
        "\n",
        "#apakah a lebih besar sama dengan b?\n",
        "c = a >= b\n",
        "print(\"apakah %d >= %d: %r\"%(a,b,c))\n",
        "\n",
        "#apakah a tidak sama dengan b?\n",
        "c = a != b\n",
        "print(\"apakah %d != %d: %r\"%(a,b,c))\n",
        "\n",
        "#apakah saya sama dengan dia?\n",
        "print(\"apakah saya == dia: false\")"
      ],
      "metadata": {
        "colab": {
          "base_uri": "https://localhost:8080/"
        },
        "id": "MojYgWJAvQIA",
        "outputId": "feedbd87-f85f-4b73-9535-38aff97e6952"
      },
      "execution_count": 4,
      "outputs": [
        {
          "output_type": "stream",
          "name": "stdout",
          "text": [
            "masukkan nilai a: 9\n",
            "masukkan nilai b: 5\n",
            "apakah 9 == 5: False\n",
            "apakah 9 < 5: False\n",
            "apakah 9 > 5: True\n",
            "apakah 9 <= 5: False\n",
            "apakah 9 >= 5: True\n",
            "apakah 9 != 5: True\n",
            "apakah saya == dia: false\n"
          ]
        }
      ]
    },
    {
      "cell_type": "markdown",
      "source": [
        "**Operator Logika:** Membuat operasi logika seperti and, or, dan not.\n",
        "\n",
        "\n",
        "**Contoh:**"
      ],
      "metadata": {
        "id": "p6m_6esS5hrE"
      }
    },
    {
      "cell_type": "code",
      "source": [
        "a = True\n",
        "b = False\n",
        "\n",
        "#logika AND\n",
        "c = a and b\n",
        "print(\"%r and %r = %r\"%(a,b,c))\n",
        "\n",
        "#logika OR\n",
        "c = a or b\n",
        "print(\"%r or %r = %r\"%(a,b,c))\n",
        "\n",
        "#logika NOT\n",
        "c = not a\n",
        "print(\"%r not %r = %r\"%(a,b,c))"
      ],
      "metadata": {
        "colab": {
          "base_uri": "https://localhost:8080/"
        },
        "id": "zkNuMVD66ly4",
        "outputId": "dc472ca4-353b-4844-e7ab-011d7941b54f"
      },
      "execution_count": 8,
      "outputs": [
        {
          "output_type": "stream",
          "name": "stdout",
          "text": [
            "True and False = False\n",
            "True or False = True\n",
            "True not False = False\n"
          ]
        }
      ]
    },
    {
      "cell_type": "markdown",
      "source": [
        "**5. Operator Bitwise:** Bekerja dengan bilangan biner menggunakan operator seperti & (AND), | (OR), ^ (XOR), dan ~ (NOT), serta operasi shift bit (<<, >>).\n",
        "\n",
        "Misalnya, kita punya variable a = 60 dan b = 13.\n",
        "\n",
        "Bila dibuat dalam bentuk biner, akan menjadi seperti ini:"
      ],
      "metadata": {
        "id": "P5R3yMZW7w2l"
      }
    },
    {
      "cell_type": "code",
      "source": [
        "a = 00111100\n",
        "b = 00001101"
      ],
      "metadata": {
        "id": "80oEeeaq75iI"
      },
      "execution_count": null,
      "outputs": []
    },
    {
      "cell_type": "markdown",
      "source": [
        "Kemudian, dilakukan operasi bitwise\n",
        "\n",
        "Operasi AND"
      ],
      "metadata": {
        "id": "HOlEyX3eCRtQ"
      }
    },
    {
      "cell_type": "code",
      "source": [
        "a = 00111100\n",
        "b = 00001101\n",
        "a & b = 00001100"
      ],
      "metadata": {
        "id": "U3AOCOm2CfU3"
      },
      "execution_count": null,
      "outputs": []
    },
    {
      "cell_type": "markdown",
      "source": [
        "Operasi OR"
      ],
      "metadata": {
        "id": "yfiDC8p-oYut"
      }
    },
    {
      "cell_type": "code",
      "source": [
        "a = 00111100\n",
        "b = 00001101\n",
        "a | b = 00111101"
      ],
      "metadata": {
        "id": "2AffYt0OoeM0"
      },
      "execution_count": null,
      "outputs": []
    },
    {
      "cell_type": "markdown",
      "source": [
        "Operasi XOR"
      ],
      "metadata": {
        "id": "YCIL6sQIomul"
      }
    },
    {
      "cell_type": "code",
      "source": [
        "a = 00111100\n",
        "b = 00001101\n",
        "a ^ b = 00110001"
      ],
      "metadata": {
        "id": "pqAZ0u_gopft"
      },
      "execution_count": null,
      "outputs": []
    },
    {
      "cell_type": "markdown",
      "source": [
        "Operasi NOT (Negasi/kebalikan)"
      ],
      "metadata": {
        "id": "uVt-zJr0o2YM"
      }
    },
    {
      "cell_type": "code",
      "source": [
        "a = 00111100\n",
        "-a = 1100011"
      ],
      "metadata": {
        "id": "5rq6eNYLpUWU"
      },
      "execution_count": null,
      "outputs": []
    },
    {
      "cell_type": "markdown",
      "source": [
        "Contoh dalam Programnya:"
      ],
      "metadata": {
        "id": "dFuU6mutpe48"
      }
    },
    {
      "cell_type": "code",
      "source": [
        "a = int(input(\"masukkan nilai a: \"))\n",
        "b = int(input(\"masukkan nilai b: \"))\n",
        "\n",
        "#operasi AND\n",
        "c = a % b\n",
        "print(\"a & b = %s\"%c)\n",
        "\n",
        "#operasi OR\n",
        "c = a | b\n",
        "print(\"a | b = %s\"%c)\n",
        "\n",
        "#operasi XOR\n",
        "c = a ^ b\n",
        "print(\"a ^ b = %s\"%c)\n",
        "\n",
        "#operasi NOT\n",
        "c = -a\n",
        "print(\"-a = %s\"%c)\n",
        "\n",
        "#operasi shift left(tukar posisi biner)\n",
        "c = a << b\n",
        "print(\"a << b = %s\"%c)\n",
        "\n",
        "#operasi shift right(tukar posisi biner)\n",
        "c = a >> b\n",
        "print(\"a >> b = %s\"%c)"
      ],
      "metadata": {
        "colab": {
          "base_uri": "https://localhost:8080/"
        },
        "id": "1gOlZ1sWpdw0",
        "outputId": "a52eac34-4d99-4643-e7f5-802a7231d251"
      },
      "execution_count": 2,
      "outputs": [
        {
          "output_type": "stream",
          "name": "stdout",
          "text": [
            "masukkan nilai a: 4\n",
            "masukkan nilai b: 5\n",
            "a & b = 4\n",
            "a | b = 5\n",
            "a ^ b = 1\n",
            "-a = -4\n",
            "a << b = 128\n",
            "a >> b = 0\n"
          ]
        }
      ]
    },
    {
      "cell_type": "markdown",
      "source": [
        "6. Operator Ternary: Digunakan untuk ekspresi kondisi dalam satu baris, seperti nilai_true if kondisi else nilai_false.\n",
        "\n",
        "Contohnya:"
      ],
      "metadata": {
        "id": "blpU84Vvq-tV"
      }
    },
    {
      "cell_type": "code",
      "source": [
        "umur = input(\"berapa umur kamu? \")\n",
        "aku = \"bocah\" if int(umur) < 10 else \"dewasa\"\n",
        "print(aku)"
      ],
      "metadata": {
        "colab": {
          "base_uri": "https://localhost:8080/"
        },
        "id": "wTvCJqv4rD8c",
        "outputId": "3bc625d5-3c58-44a0-92f1-115fa21a757b"
      },
      "execution_count": 4,
      "outputs": [
        {
          "output_type": "stream",
          "name": "stdout",
          "text": [
            "berapa umur kamu? 19\n",
            "dewasa\n"
          ]
        }
      ]
    },
    {
      "cell_type": "markdown",
      "source": [
        "Contoh ke 2:"
      ],
      "metadata": {
        "id": "cBm6wP58ruqV"
      }
    },
    {
      "cell_type": "code",
      "source": [
        "jomblo = True\n",
        "status = (\"menikah\", \"single\")[jomblo]\n",
        "print(status)"
      ],
      "metadata": {
        "colab": {
          "base_uri": "https://localhost:8080/"
        },
        "id": "uXT65g6drtqF",
        "outputId": "71b2dfcd-96dd-4ea5-a27c-1115d8cdf442"
      },
      "execution_count": 10,
      "outputs": [
        {
          "output_type": "stream",
          "name": "stdout",
          "text": [
            "single\n"
          ]
        }
      ]
    },
    {
      "cell_type": "code",
      "source": [
        "jomblo = False\n",
        "status = (\"menikah\", \"single\")[jomblo]\n",
        "print(status)"
      ],
      "metadata": {
        "colab": {
          "base_uri": "https://localhost:8080/"
        },
        "id": "AlXPHsX_sdIc",
        "outputId": "dcb46ff2-344c-414e-c8c5-0c472759d464"
      },
      "execution_count": 9,
      "outputs": [
        {
          "output_type": "stream",
          "name": "stdout",
          "text": [
            "menikah\n"
          ]
        }
      ]
    }
  ]
}